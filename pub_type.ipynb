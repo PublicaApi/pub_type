{
 "cells": [
  {
   "cell_type": "code",
   "execution_count": 3,
   "id": "1f68ae61",
   "metadata": {},
   "outputs": [],
   "source": [
    "import requests\n",
    "import json\n",
    "import pandas as pd"
    "import altair as alt"
   ]
  },
  {
   "cell_type": "code",
   "execution_count": 6,
   "id": "12036e4e",
   "metadata": {},
   "outputs": [
    {
     "name": "stdout",
     "output_type": "stream",
     "text": [
      "291\n",
      "291\n",
      "['conference paper', 'blog post', 'paper', 'report', 'report', 'report', 'journal article', 'erratum', 'book article', 'report', 'anthology', 'journal article', 'report', 'report', 'report', 'report', 'journal article', 'report', 'journal article', 'report', 'conference paper', 'report', 'report', 'journal article', 'report', 'journal article', 'journal article', 'conference paper', 'journal article', 'journal article', 'report', 'journal article', 'report', 'journal article', 'journal article', 'journal article', 'report', 'report', 'report', 'journal article', 'journal article', 'journal article', 'journal article', 'report', 'journal article', 'journal article', 'book article', 'journal article', 'journal article', 'report', 'paper', 'journal article', 'report', 'conference paper', 'report', 'book article', 'journal article', 'conference paper', 'book article', 'book article', 'report', 'report', 'report', 'report', 'journal article', 'journal article', 'journal article', 'report', 'journal article', 'journal article', 'report', 'journal article', 'report', 'report', 'book article', 'book article', 'report', 'report', 'conference report', 'report', 'report', 'book article', 'journal article', 'journal article', 'report', 'report', 'journal article', 'report', 'journal article', 'journal article', 'conference paper', 'report', 'journal article', 'journal article', 'journal article', 'journal article', 'paper', 'report', 'paper', 'journal article', 'report', 'conference paper', 'report', 'journal article', 'anthology', 'journal article', 'book article', 'report', 'journal article', 'report', 'conference paper', 'journal article', 'report', 'book article', 'report', 'report', 'journal article', 'report', 'conference paper', 'book article', 'book article', 'report', 'report', 'review', 'report', 'journal article', 'anthology', 'report', 'report', 'report', 'report', 'journal article', 'report', 'journal article', 'report', 'journal article', 'journal article', 'report', 'journal article', 'journal article', 'conference paper', 'journal article', 'erratum', 'journal article', 'conference paper', 'journal article', 'report', 'journal article', 'journal article', 'journal article', 'journal article', 'journal article', 'book article', 'report', 'book article', 'journal article', 'report', 'report', 'journal article', 'journal article', 'book article', 'journal article', 'report', 'report', 'study', 'journal article', 'book article', 'journal article', 'report', 'journal article', 'report', 'journal article', 'study', 'report', 'journal article', 'journal article', 'report', 'journal article', 'conference paper', 'journal article', 'journal article', 'journal article', 'journal article', 'journal article', 'book article', 'conference paper', 'report', 'conference paper', 'journal article', 'anthology', 'report', 'report', 'conference paper', 'journal article', 'report', 'journal article', 'report', 'report', 'journal article', 'book article', 'report', 'journal article', 'journal article', 'conference paper', 'report', 'journal article', 'journal article', 'journal article', 'study', 'journal article', 'journal article', 'journal article', 'journal article', 'journal article', 'journal article', 'report', 'journal article', 'report', 'paper', 'report', 'conference paper', 'journal article', 'book article', 'journal article', 'report', 'report', 'journal article', 'journal article', 'report', 'report', 'journal article', 'journal article', 'book article', 'conference paper', 'journal article', 'report', 'journal article', 'journal article', 'report', 'journal article', 'book article', 'journal article', 'report', 'journal article', 'journal article', 'book article', 'report', 'report', 'report', 'journal article', 'conference paper', 'journal article', 'conference paper', 'journal article', 'journal article', 'report', 'report', 'journal article', 'report', 'journal article', 'book article', 'report', 'paper', 'journal article', 'paper', 'report', 'conference paper', 'review', 'book article', 'journal article', 'report', 'journal article', 'journal article', 'journal article', 'conference paper', 'journal article', 'report', 'book article', 'report', 'presentation', 'report', 'journal article', 'conference proceeding', 'report', 'journal article', 'report', 'journal article', 'journal article', 'study', 'journal article', 'journal article']\n"
     ]
    }
   ],
   "source": [
    "# Instituts-Kürzel\n",
    "acronym = \"ISI\"\n",
    "\n",
    "# Jahr von (min) bis (max). Für die Einschränkung auf ein Jahr, bitte den gleichen Wert für date_min und date_max einfügen\n",
    "#date = \"2021\"\n",
    "date_min = \"2022\" \n",
    "date_max = \"2022\"\n",
    "\n",
    "\n",
    "url = \"https://publica-rest.fraunhofer.de/server/api/discover/search/objects?query=institute:(\"+acronym+\")&configuration=researchoutputs&f.dateIssued=%5B\"+date_min+\"%20TO%20\"+date_max+\"%5D,equals\"\n",
    "\n",
    "r = requests.request(\"GET\", url)\n",
    "data = r.text\n",
    "data = json.loads(data)\n",
    "#print(data)\n",
    "anzahl = data[\"_embedded\"][\"searchResult\"][\"page\"][\"totalElements\"]\n",
    "anzahl = int(anzahl)\n",
    "print(anzahl)\n",
    "pages = data[\"_embedded\"][\"searchResult\"][\"page\"][\"totalPages\"]\n",
    "pages = int(pages)\n",
    "#print(pages)\n",
    "object = data[\"_embedded\"][\"searchResult\"][\"_embedded\"][\"objects\"]\n",
    "\n",
    "pub_uuid = []\n",
    "pub_name = []\n",
    "pub_href = []\n",
    "pub_type = []\n",
    "pub_journal = []\n",
    "pub_journalAuth = []\n",
    "\n",
    "object = data[\"_embedded\"][\"searchResult\"][\"_embedded\"][\"objects\"]\n",
    "\n",
    "for j in range(len(object)):\n",
    "    pub_uuid.append(data[\"_embedded\"][\"searchResult\"][\"_embedded\"][\"objects\"][j][\"_embedded\"][\"indexableObject\"][\"uuid\"])\n",
    "    pub_name.append(data[\"_embedded\"][\"searchResult\"][\"_embedded\"][\"objects\"][j][\"_embedded\"][\"indexableObject\"][\"name\"])\n",
    "    pub_href.append(data[\"_embedded\"][\"searchResult\"][\"_embedded\"][\"objects\"][j][\"_links\"][\"indexableObject\"][\"href\"])\n",
    "    #pub_journal.append(data[\"_embedded\"][\"searchResult\"][\"_embedded\"][\"objects\"][j][\"_embedded\"][\"indexableObject\"][\"metadata\"][\"dc.relation.ispartof\"][0][\"value\"])\n",
    "    #pub_journalAuth.append(data[\"_embedded\"][\"searchResult\"][\"_embedded\"][\"objects\"][j][\"_embedded\"][\"indexableObject\"][\"metadata\"][\"dc.relation.ispartof\"][0][\"authority\"])\n",
    "    pub_type.append(data[\"_embedded\"][\"searchResult\"][\"_embedded\"][\"objects\"][j][\"_embedded\"][\"indexableObject\"][\"metadata\"][\"dc.type\"][0][\"value\"])\n",
    "\n",
    "    \n",
    "if pages > 1:\n",
    "    for l in range(pages-1):\n",
    "        url = data[\"_embedded\"][\"searchResult\"][\"_links\"][\"next\"][\"href\"]\n",
    "        r = requests.request(\"GET\", url)\n",
    "        #print(l)\n",
    "        data = r.text\n",
    "        data = json.loads(data)\n",
    "        object = data[\"_embedded\"][\"searchResult\"][\"_embedded\"][\"objects\"]\n",
    "        for j in range(len(object)):\n",
    "            pub_uuid.append(data[\"_embedded\"][\"searchResult\"][\"_embedded\"][\"objects\"][j][\"_embedded\"][\"indexableObject\"][\"uuid\"])\n",
    "            pub_name.append(data[\"_embedded\"][\"searchResult\"][\"_embedded\"][\"objects\"][j][\"_embedded\"][\"indexableObject\"][\"name\"])\n",
    "            pub_href.append(data[\"_embedded\"][\"searchResult\"][\"_embedded\"][\"objects\"][j][\"_links\"][\"indexableObject\"][\"href\"])\n",
    "            #pub_journal.append(data[\"_embedded\"][\"searchResult\"][\"_embedded\"][\"objects\"][j][\"_embedded\"][\"indexableObject\"][\"metadata\"][\"dc.relation.ispartof\"][0][\"value\"])\n",
    "            #pub_journalAuth.append(data[\"_embedded\"][\"searchResult\"][\"_embedded\"][\"objects\"][j][\"_embedded\"][\"indexableObject\"][\"metadata\"][\"dc.relation.ispartof\"][0][\"authority\"])\n",
    "            pub_type.append(data[\"_embedded\"][\"searchResult\"][\"_embedded\"][\"objects\"][j][\"_embedded\"][\"indexableObject\"][\"metadata\"][\"dc.type\"][0][\"value\"])\n",
    "           \n",
    "print(len(pub_type))\n",
    "print(pub_type)"
   ]
  },
  {
   "cell_type": "code",
   "execution_count": null,
   "id": "d40e920c",
   "metadata": {},
   "outputs": [],
   "source": []
  }
 ],
 "metadata": {
  "kernelspec": {
   "display_name": "Python 3",
   "language": "python",
   "name": "python3"
  },
  "language_info": {
   "codemirror_mode": {
    "name": "ipython",
    "version": 3
   },
   "file_extension": ".py",
   "mimetype": "text/x-python",
   "name": "python",
   "nbconvert_exporter": "python",
   "pygments_lexer": "ipython3",
   "version": "3.6.9"
  }
 },
 "nbformat": 4,
 "nbformat_minor": 5
}
